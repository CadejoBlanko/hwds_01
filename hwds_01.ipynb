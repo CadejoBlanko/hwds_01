{
 "cells": [
  {
   "cell_type": "code",
   "execution_count": 49,
   "id": "1fe22f94",
   "metadata": {},
   "outputs": [],
   "source": [
    "import numpy as np\n",
    "import pandas as pd\n",
    "import matplotlib.pyplot as plt "
   ]
  },
  {
   "cell_type": "code",
   "execution_count": 50,
   "id": "521dd908",
   "metadata": {},
   "outputs": [
    {
     "name": "stdout",
     "output_type": "stream",
     "text": [
      "Task #1\n",
      "Values of x: [0. 2. 4. 6. 8. 1. 3. 5. 7. 9.] Size x: 10\n"
     ]
    }
   ],
   "source": [
    "print(\"Task #1\")\n",
    "x = np.array([0,2,4,6,8,1,3,5,7,9], dtype=float)\n",
    "print(f\"Values of x: {x}\", f\"Size x: {x.size}\")"
   ]
  },
  {
   "cell_type": "code",
   "execution_count": 87,
   "id": "1f80f6ec",
   "metadata": {},
   "outputs": [
    {
     "name": "stdout",
     "output_type": "stream",
     "text": [
      "Task #2\n",
      "Matrix 3x3\n",
      "[[0 0 0]\n",
      " [0 0 0]\n",
      " [0 0 0]] Size m: 9 Shape m: (3, 3)\n"
     ]
    }
   ],
   "source": [
    "print(\"Task #2\")\n",
    "m = np.zeros((3, 3), dtype=int)\n",
    "print(\"Matrix 3x3\")\n",
    "print(m, f\"Size m: {m.size}\", f\"Shape m: {m.shape}\")"
   ]
  },
  {
   "cell_type": "code",
   "execution_count": 52,
   "id": "6b1b360f",
   "metadata": {},
   "outputs": [
    {
     "name": "stdout",
     "output_type": "stream",
     "text": [
      "Task #3\n",
      "Matrix 5x5\n",
      "[[ 1  1  1  1  1]\n",
      " [ 1  2  3  4  5]\n",
      " [ 1  3  6 10  4]\n",
      " [ 1  4 10  6  3]\n",
      " [ 1  5  4  3  2]] Size m: 25 Shape m: (5, 5)\n"
     ]
    }
   ],
   "source": [
    "print(\"Task #3\")\n",
    "m = np.array([\n",
    "    [1,1,1,1,1],\n",
    "    [1,2,3,4,5],\n",
    "    [1,3,6,10,4],\n",
    "    [1,4,10,6,3],\n",
    "    [1,5,4,3,2]], dtype=int)\n",
    "print(\"Matrix 5x5\")\n",
    "print(m, f\"Size m: {m.size}\", f\"Shape m: {m.shape}\")"
   ]
  },
  {
   "cell_type": "code",
   "execution_count": 53,
   "id": "dfc30d41",
   "metadata": {},
   "outputs": [
    {
     "name": "stdout",
     "output_type": "stream",
     "text": [
      "Task #4\n",
      "Matrix random 4x4\n",
      "[[1 0 1 0]\n",
      " [1 0 0 0]\n",
      " [0 0 0 1]\n",
      " [0 1 1 1]] Size m: 16 Shape m: (4, 4)\n"
     ]
    }
   ],
   "source": [
    "print(\"Task #4\")\n",
    "m = np.random.randint(0, 2, size=(4, 4))\n",
    "print(\"Matrix random 4x4\")\n",
    "print(m, f\"Size m: {m.size}\", f\"Shape m: {m.shape}\")"
   ]
  },
  {
   "cell_type": "code",
   "execution_count": 54,
   "id": "0450630e",
   "metadata": {},
   "outputs": [
    {
     "name": "stdout",
     "output_type": "stream",
     "text": [
      "Task #5\n",
      "Values of x: [5 6 8 8 6]\n",
      "Values of y: [3 1 6 2 9]\n",
      "Addition: [ 8  7 14 10 15]\n",
      "Subtraction: [ 2  5  2  6 -3]\n",
      "Multiplication: [15  6 48 16 54]\n"
     ]
    }
   ],
   "source": [
    "print(\"Task #5\")\n",
    "x = np.random.randint(1, 11, size=(5))\n",
    "y = np.random.randint(1, 11, size=(5))\n",
    "print(f\"Values of x: {x}\")\n",
    "print(f\"Values of y: {y}\")\n",
    "print(f\"Addition: {x+y}\")\n",
    "print(f\"Subtraction: {x-y}\")\n",
    "print(f\"Multiplication: {x*y}\")"
   ]
  },
  {
   "cell_type": "code",
   "execution_count": 64,
   "id": "2a72f021",
   "metadata": {},
   "outputs": [
    {
     "name": "stdout",
     "output_type": "stream",
     "text": [
      "Task #6\n",
      "Values of x: [ 9 10  3 10  6  2  2] Size x: 7\n",
      "Values of y: [ 9  3  6  7 10  7  5] Size y: 7\n",
      "Scalar product: 283\n"
     ]
    }
   ],
   "source": [
    "print(\"Task #6\")\n",
    "x = np.random.randint(1, 11, size=(7))\n",
    "y = np.random.randint(1, 11, size=(7))\n",
    "print(f\"Values of x: {x}\", f\"Size x: {x.size}\")\n",
    "print(f\"Values of y: {y}\", f\"Size y: {y.size}\")\n",
    "print(f\": {np.dot(x,y)}\")"
   ]
  },
  {
   "cell_type": "code",
   "execution_count": 56,
   "id": "0dd3922c",
   "metadata": {},
   "outputs": [
    {
     "name": "stdout",
     "output_type": "stream",
     "text": [
      "Task #7\n",
      "Matrix random 2x2\n",
      "[[7 9]\n",
      " [8 9]] Size x: 4 Shape x: (2, 2)\n",
      "Matrix random 2x3\n",
      "[[4 2 7]\n",
      " [5 8 6]] Size y: 6 Shape y: (2, 3)\n",
      "Multiplication:\n",
      "[[ 73  86 103]\n",
      " [ 77  88 110]]\n"
     ]
    }
   ],
   "source": [
    "print(\"Task #7\")\n",
    "x = np.random.randint(1, 11, size=(2, 2))\n",
    "y = np.random.randint(1, 11, size=(2, 3))\n",
    "print(\"Matrix random 2x2\")\n",
    "print(x, f\"Size x: {x.size}\", f\"Shape x: {x.shape}\")\n",
    "print(\"Matrix random 2x3\")\n",
    "print(y, f\"Size y: {y.size}\", f\"Shape y: {y.shape}\")\n",
    "print(f\"Scalar product:\\n{np.dot(x,y)}\")"
   ]
  },
  {
   "cell_type": "code",
   "execution_count": 61,
   "id": "81571069",
   "metadata": {},
   "outputs": [
    {
     "name": "stdout",
     "output_type": "stream",
     "text": [
      "Task #8\n",
      "Matrix random 3x3\n",
      "[[1 0 0]\n",
      " [1 1 0]\n",
      " [0 0 1]] Size: 9 Shape: (3, 3)\n",
      "Inverse matrix\n",
      "[[ 1.  0.  0.]\n",
      " [-1.  1.  0.]\n",
      " [ 0.  0.  1.]] Size: 9 Shape: (3, 3)\n"
     ]
    }
   ],
   "source": [
    "print(\"Task #8\")\n",
    "x = np.random.randint(0, 2, size=(3, 3))\n",
    "print(\"Matrix random 3x3\")\n",
    "print(x, f\"Size: {x.size}\", f\"Shape: {x.shape}\")\n",
    "print(\"Inverse matrix\")\n",
    "y = np.linalg.inv(x)\n",
    "print(y, f\"Size: {y.size}\", f\"Shape: {y.shape}\")"
   ]
  },
  {
   "cell_type": "code",
   "execution_count": 62,
   "id": "89525fb0",
   "metadata": {},
   "outputs": [
    {
     "name": "stdout",
     "output_type": "stream",
     "text": [
      "Task #9\n",
      "Matrix random 4x4\n",
      "[[1 1 0 1]\n",
      " [0 0 0 1]\n",
      " [0 1 1 1]\n",
      " [1 1 0 1]] Size: 16 Shape: (4, 4)\n",
      "Matrix transposition\n",
      "[[1 0 0 1]\n",
      " [1 0 1 1]\n",
      " [0 0 1 0]\n",
      " [1 1 1 1]] Size: 16 Shape: (4, 4)\n"
     ]
    }
   ],
   "source": [
    "print(\"Task #9\")\n",
    "x = np.random.randint(0, 2, size=(4, 4))\n",
    "print(\"Matrix random 4x4\")\n",
    "print(x, f\"Size: {x.size}\", f\"Shape: {x.shape}\")\n",
    "print(\"Matrix transposition\")\n",
    "print(x.T, f\"Size: {x.size}\", f\"Shape: {x.shape}\")"
   ]
  },
  {
   "cell_type": "code",
   "execution_count": 68,
   "id": "cd94ab51",
   "metadata": {},
   "outputs": [
    {
     "name": "stdout",
     "output_type": "stream",
     "text": [
      "Task #10\n",
      "Matrix random 3x4\n",
      "[[10  6 10  2]\n",
      " [10  9  6  4]\n",
      " [ 3  1  3  9]] Size: 12 Shape: (3, 4)\n",
      "Values of y:\n",
      " [10  3  7  5] Size y: 4\n",
      "Multiplication:\n",
      "[[100  18  70  10]\n",
      " [100  27  42  20]\n",
      " [ 30   3  21  45]]\n"
     ]
    }
   ],
   "source": [
    "print(\"Task #10\")\n",
    "x = np.random.randint(1, 11, size=(3, 4))\n",
    "y = np.random.randint(1, 11, size=(4))\n",
    "print(\"Matrix random 3x4\")\n",
    "print(x, f\"Size: {x.size}\", f\"Shape: {x.shape}\")\n",
    "print(f\"Values of y:\\n {y}\", f\"Size y: {y.size}\")\n",
    "print(f\"Multiplication:\\n{x*y}\")"
   ]
  },
  {
   "cell_type": "code",
   "execution_count": 72,
   "id": "284d4e9b",
   "metadata": {},
   "outputs": [
    {
     "name": "stdout",
     "output_type": "stream",
     "text": [
      "Task #11\n",
      "Matrix random 2x3\n",
      "[[1 0 1]\n",
      " [0 0 1]] Size: 6 Shape: (2, 3)\n",
      "Values of y:\n",
      " [1 0 1] Size y: 3\n",
      "Multiplication:\n",
      "[[1 0 1]\n",
      " [0 0 1]]\n"
     ]
    }
   ],
   "source": [
    "print(\"Task #11\")\n",
    "x = np.random.randint(0, 2, size=(2, 3))\n",
    "y = np.random.randint(0, 2, size=(3))\n",
    "print(\"Matrix random 2x3\")\n",
    "print(x, f\"Size: {x.size}\", f\"Shape: {x.shape}\")\n",
    "print(f\"Values of y:\\n {y}\", f\"Size y: {y.size}\")\n",
    "print(f\"Multiplication:\\n{x*y}\")"
   ]
  },
  {
   "cell_type": "code",
   "execution_count": 71,
   "id": "b63b0586",
   "metadata": {},
   "outputs": [
    {
     "name": "stdout",
     "output_type": "stream",
     "text": [
      "Task #12\n",
      "Matrix random 2x2\n",
      "[[9 3]\n",
      " [2 1]] Size x: 4 Shape x: (2, 2)\n",
      "Matrix random 2x2\n",
      "[[8 5]\n",
      " [5 4]] Size y: 4 Shape y: (2, 2)\n",
      "Multiplication:\n",
      "[[72 15]\n",
      " [10  4]]\n"
     ]
    }
   ],
   "source": [
    "print(\"Task #12\")\n",
    "x = np.random.randint(1, 11, size=(2, 2))\n",
    "y = np.random.randint(1, 11, size=(2, 2))\n",
    "print(\"Matrix random 2x2\")\n",
    "print(x, f\"Size x: {x.size}\", f\"Shape x: {x.shape}\")\n",
    "print(\"Matrix random 2x2\")\n",
    "print(y, f\"Size y: {y.size}\", f\"Shape y: {y.shape}\")\n",
    "print(f\"Multiplication:\\n{x*y}\")"
   ]
  },
  {
   "cell_type": "code",
   "execution_count": 73,
   "id": "d73a28b8",
   "metadata": {},
   "outputs": [
    {
     "name": "stdout",
     "output_type": "stream",
     "text": [
      "Task #13\n",
      "Matrix random 2x2\n",
      "[[5 2]\n",
      " [7 2]] Size x: 4 Shape x: (2, 2)\n",
      "Matrix random 2x2\n",
      "[[4 7]\n",
      " [9 4]] Size y: 4 Shape y: (2, 2)\n",
      "Scalar product:\n",
      "[[38 43]\n",
      " [46 57]]\n"
     ]
    }
   ],
   "source": [
    "print(\"Task #13\")\n",
    "x = np.random.randint(1, 11, size=(2, 2))\n",
    "y = np.random.randint(1, 11, size=(2, 2))\n",
    "print(\"Matrix random 2x2\")\n",
    "print(x, f\"Size x: {x.size}\", f\"Shape x: {x.shape}\")\n",
    "print(\"Matrix random 2x2\")\n",
    "print(y, f\"Size y: {y.size}\", f\"Shape y: {y.shape}\")\n",
    "print(f\"Scalar product:\\n{np.dot(x,y)}\")"
   ]
  },
  {
   "cell_type": "code",
   "execution_count": 76,
   "id": "4ceadb3c",
   "metadata": {},
   "outputs": [
    {
     "name": "stdout",
     "output_type": "stream",
     "text": [
      "Task #14\n",
      "Matrix random 5x5\n",
      "[[39 42  5 69 51]\n",
      " [18 69 84 57 81]\n",
      " [11 28 26 67 42]\n",
      " [ 4 96 68 33 19]\n",
      " [82  6 74 26 37]] Size m: 25 Shape m: (5, 5)\n",
      "The sum of matrix elements:\n",
      " 1134\n"
     ]
    }
   ],
   "source": [
    "print(\"Task #14\")\n",
    "m = np.random.randint(1, 101, size=(5, 5))\n",
    "print(\"Matrix random 5x5\")\n",
    "print(m, f\"Size m: {m.size}\", f\"Shape m: {m.shape}\")\n",
    "print(f\"The sum of matrix elements:\\n {m.sum()}\")"
   ]
  },
  {
   "cell_type": "code",
   "execution_count": 79,
   "id": "a1067147",
   "metadata": {},
   "outputs": [
    {
     "name": "stdout",
     "output_type": "stream",
     "text": [
      "Task #15\n",
      "Matrix random 4x4\n",
      "[[ 6  2  7  5]\n",
      " [ 4  8  9 10]\n",
      " [ 2  6  3 10]\n",
      " [ 4  8  8  3]] Size x: 16 Shape x: (4, 4)\n",
      "Matrix random 4x4\n",
      "[[ 4  1  6  3]\n",
      " [ 4  5  6  3]\n",
      " [ 4  7  1  3]\n",
      " [10 10  6  8]] Size y: 16 Shape y: (4, 4)\n",
      "Matrix difference:\n",
      "[[ 2  1  1  2]\n",
      " [ 0  3  3  7]\n",
      " [-2 -1  2  7]\n",
      " [-6 -2  2 -5]]\n"
     ]
    }
   ],
   "source": [
    "print(\"Task #15\")\n",
    "x = np.random.randint(1, 11, size=(4, 4))\n",
    "y = np.random.randint(1, 11, size=(4, 4))\n",
    "print(\"Matrix random 4x4\")\n",
    "print(x, f\"Size x: {x.size}\", f\"Shape x: {x.shape}\")\n",
    "print(\"Matrix random 4x4\")\n",
    "print(y, f\"Size y: {y.size}\", f\"Shape y: {y.shape}\")\n",
    "print(f\"Matrix difference:\\n{x-y}\")"
   ]
  },
  {
   "cell_type": "code",
   "execution_count": 91,
   "id": "043f753e",
   "metadata": {},
   "outputs": [
    {
     "name": "stdout",
     "output_type": "stream",
     "text": [
      "Task #16\n",
      "Matrix random 3x3\n",
      "[[0 1 1]\n",
      " [1 1 1]\n",
      " [0 0 0]] Size: 9 Shape: (3, 3)\n",
      "A column vector containing the sum of the elements of each row of the matrix:\n",
      " [[2], [3], [0]]\n"
     ]
    }
   ],
   "source": [
    "print(\"Task #16\")\n",
    "x = np.random.randint(0, 2, size=(3, 3))\n",
    "print(\"Matrix random 3x3\")\n",
    "print(x, f\"Size: {x.size}\", f\"Shape: {x.shape}\")\n",
    "y = [[x[0].sum()],\n",
    "     [x[1].sum()],\n",
    "     [x[2].sum()]]\n",
    "print(f\"A column vector containing the sum of the elements of each row of the matrix:\\n {y}\")"
   ]
  },
  {
   "cell_type": "code",
   "execution_count": 93,
   "id": "8e04b570",
   "metadata": {},
   "outputs": [
    {
     "name": "stdout",
     "output_type": "stream",
     "text": [
      "Task #17\n",
      "Matrix random 3x4\n",
      "[[10  9  4  2]\n",
      " [ 8  3 10  5]\n",
      " [ 5  3  3 10]] Size: 12 Shape: (3, 4)\n",
      "Squared matrix 3x4\n",
      "[[100  81  16   4]\n",
      " [ 64   9 100  25]\n",
      " [ 25   9   9 100]]\n"
     ]
    }
   ],
   "source": [
    "print(\"Task #17\")\n",
    "x = np.random.randint(1, 11, size=(3, 4))\n",
    "print(\"Matrix random 3x4\")\n",
    "print(x, f\"Size: {x.size}\", f\"Shape: {x.shape}\")\n",
    "print(\"Squared matrix 3x4\")\n",
    "print(np.square(x))"
   ]
  },
  {
   "cell_type": "code",
   "execution_count": 95,
   "id": "2e24fc94",
   "metadata": {},
   "outputs": [
    {
     "name": "stdout",
     "output_type": "stream",
     "text": [
      "Task #18\n",
      "Matrix random 3x4\n",
      "Values of x: [22  5 32 31] Size x: 4\n",
      "Square root vector\n",
      "[4.69041576 2.23606798 5.65685425 5.56776436]\n"
     ]
    }
   ],
   "source": [
    "print(\"Task #18\")\n",
    "x = np.random.randint(1, 51, size=(4))\n",
    "print(\"Matrix random 3x4\")\n",
    "print(f\"Values of x: {x}\", f\"Size x: {x.size}\")\n",
    "print(\"Square root vector\")\n",
    "print(np.sqrt(x))"
   ]
  }
 ],
 "metadata": {
  "kernelspec": {
   "display_name": "Python 3 (ipykernel)",
   "language": "python",
   "name": "python3"
  },
  "language_info": {
   "codemirror_mode": {
    "name": "ipython",
    "version": 3
   },
   "file_extension": ".py",
   "mimetype": "text/x-python",
   "name": "python",
   "nbconvert_exporter": "python",
   "pygments_lexer": "ipython3",
   "version": "3.11.5"
  }
 },
 "nbformat": 4,
 "nbformat_minor": 5
}
